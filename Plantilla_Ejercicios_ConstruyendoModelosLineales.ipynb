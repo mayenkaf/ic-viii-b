{
  "nbformat": 4,
  "nbformat_minor": 0,
  "metadata": {
    "colab": {
      "name": "Plantilla-Ejercicios-ConstruyendoModelosLineales.ipynb",
      "provenance": [],
      "collapsed_sections": []
    },
    "kernelspec": {
      "name": "python3",
      "display_name": "Python 3"
    }
  },
  "cells": [
    {
      "cell_type": "markdown",
      "metadata": {
        "id": "TXb3Haw_kQ-2"
      },
      "source": [
        "# Ejercicios de Construyendo Modelos Lineales\n",
        "**Inteligencia Computacional Grupo B VIII ciclo**\n",
        "\n",
        "Estudiante: ....\n",
        "\n",
        "Código de Estudiante:......\n",
        "\n",
        "Presentado hasta el 10 de Junio de 2021\n",
        "\n",
        "*@author: MFCh*"
      ]
    },
    {
      "cell_type": "markdown",
      "metadata": {
        "id": "U4P3WQMFuu3x"
      },
      "source": [
        "## Test 02\n",
        "\n",
        "**Componentes de un modelo**\n",
        "\n",
        "*Instrucciones*\n",
        "1. Complete la definicion de  model() para que tome x, y las entradas predeterminadas a0 = 3, a1 = 2, a2 = 0 como entrada, y devuelva Y.\n",
        "2. Cree una matriz de valores X utilizando el método numpy np.linspace().\n",
        "3. Pase x a su modelo model() sin especificar a0, a1, a2, para obtener los valores de Y predichos por defecto.\n",
        "4. Utilice plot_prediction() predefinido para ver un gráfico de los datos resultantes x e y."
      ]
    },
    {
      "cell_type": "code",
      "metadata": {
        "id": "RJOZfaqNxf_y"
      },
      "source": [
        "import matplotlib.pyplot as plt\n",
        "def plot_prediction(x,y):\n",
        "  plt.plot(x,y,'r-o')\n",
        "  plt.show()"
      ],
      "execution_count": null,
      "outputs": []
    },
    {
      "cell_type": "code",
      "metadata": {
        "id": "lVP-XCrbwB6Y"
      },
      "source": [
        "# Define the general model as a function\n",
        "def model(x, a0=____, a1=____, a2=____):\n",
        "    return a0 + (a1*____) + (a2*____*____)\n",
        "\n",
        "# Generate array x, then predict y values for specific, non-default a0 and a1\n",
        "x = np.____(-10, 10, 21)\n",
        "y = model(____)\n",
        "\n",
        "# Plot the results, y versus x\n",
        "fig = plot_prediction(____, ____)"
      ],
      "execution_count": null,
      "outputs": []
    },
    {
      "cell_type": "markdown",
      "metadata": {
        "id": "IxJmFOO_zPgr"
      },
      "source": [
        "## Test 03\n",
        "Ahora que ha creado un modelo general, \"optimicémoslo\" o \"ajustémoslo\" a un nuevo conjunto de datos medidos (precargados), xd, yd, encontrando los valores específicos para los parámetros del modelo a0, a1 para los cuales los datos del modelo y los datos medidos se alinean en un gráfico.\n",
        "\n",
        "Esta es una estrategia de visualización iterativa, en la que comenzamos con una suposición de los parámetros del modelo, los pasamos al modelo(), trazamos los datos modelados resultantes en los datos medidos y verificamos visualmente que la línea pase por los puntos. Si no es así, cambiamos los parámetros del modelo y volvemos a intentarlo.\n",
        "\n",
        "*Instrucciones*\n",
        "1. Complete la función plot_data_and_model(xd, yd, ym), pasando xd, yd y xd, ym en las llamadas de trazado internas.\n",
        "2. Calcule las predicciones del modelo usando ym = model() pasando tanto los datos xd como los parámetros adivinados por el modelo a0 y a1.\n",
        "3. Inspeccione los datos proporcionados anteriormente y utilícelos como guía cuando proporcione sus dos primeras estimaciones. Puede volver y revisar estas estimaciones después de revisar cómo la línea se ajusta a los datos.\n",
        "Utilice plot_data_and_model() para trazar xd, yd y ym juntos.\n",
        "4. Cambie los valores de a0 y a1 y repita los 2 pasos anteriores hasta que la línea pase por todos los puntos."
      ]
    },
    {
      "cell_type": "code",
      "metadata": {
        "id": "5ZM5I2yb0QMa"
      },
      "source": [
        "xd = np.linspace(0,10,21)\n",
        "yd = np.array([ 161.78587909,  132.72560763,  210.81767421,  179.6837026 ,\n",
        "        181.98528167,  234.67907351,  246.48971034,  221.58691239,\n",
        "        250.3924093 ,  206.43287615,  303.75089312,  312.29865056,\n",
        "        323.8331032 ,  261.9686295 ,  316.64806585,  337.55295912,\n",
        "        360.13633529,  369.72729852,  408.0289548 ,  348.82736117,\n",
        "        394.93384188])\n",
        "def plot_data(x,y):\n",
        "  fig,_ = plt.subplots()\n",
        "  fig.axes[0].scatter(x,y,c='black')\n",
        "  return fig\n"
      ],
      "execution_count": null,
      "outputs": []
    },
    {
      "cell_type": "code",
      "metadata": {
        "id": "H5FBvMhuzTUP"
      },
      "source": [
        "# Complete the plotting function definition\n",
        "def plot_data_with_model(xd, yd, ym):\n",
        "    fig = plot_data(____, ____)  # plot measured data\n",
        "    fig.axes[0].plot(____, ____, color='red')  # over-plot modeled data\n",
        "    plt.show()\n",
        "    return fig\n",
        "\n",
        "# Select new model parameters a0, a1, and generate modeled `ym` from them.\n",
        "a0 = ____\n",
        "a1 = ____\n",
        "ym = model(xd, a0, a1)\n",
        "\n",
        "# Plot the resulting model to see whether it fits the data\n",
        "fig = plot_data_with_model(xd, yd, ____)"
      ],
      "execution_count": null,
      "outputs": []
    },
    {
      "cell_type": "markdown",
      "metadata": {
        "id": "Yt5UWL_-dG0k"
      },
      "source": [
        "## Test 04\n",
        "La definición de escalas de temperatura está relacionada con la expansión lineal de ciertos líquidos, como el mercurio y el alcohol. Originalmente, estas escalas eran literalmente reglas para medir la longitud del fluido en el tubo estrecho marcado o \"graduado\" como un sustituto de la temperatura. El alcohol comienza en un bulbo y luego se expande linealmente en el tubo, en respuesta al aumento de temperatura del bulbo o lo que sea que lo rodea.\n",
        "\n",
        "En este ejercicio, exploraremos la conversión entre las escalas de temperatura Fahrenheit y Celsius como una demostración de la interpretación de la pendiente y la intersección de una relación lineal dentro de un contexto físico.\n",
        "\n",
        "*Instrucciones*\n",
        "1. Complete la función **temps_F = convert_scale(temps_C)** como un modelo lineal donde \"x\" es temps_C e \"y\" es temps_F.\n",
        "2. Calcule el cambio de temperatura en ambas escalas restando la temperatura de congelación de la temperatura de ebullición.\n",
        "3. Calcule la pendiente como el **change_in_F** dividido por el **change_in_C**.\n",
        "4. Calcule la intersección como la diferencia entre los puntos de congelación freeze_F y freeze_C.\n",
        "5. Utilice **plot_temperatures()** predefinido para trazar el modelo resultante."
      ]
    },
    {
      "cell_type": "code",
      "metadata": {
        "id": "gxDvZZR_jV7P"
      },
      "source": [
        " import matplotlib.pyplot as plt\n",
        " def plot_temperatures(x, y):\n",
        "   plt.plot(x,y)\n",
        "   return plt.show()"
      ],
      "execution_count": null,
      "outputs": []
    },
    {
      "cell_type": "code",
      "metadata": {
        "id": "8O3EZGLSh_4-"
      },
      "source": [
        "# Complete the function to convert C to F\n",
        "def convert_scale(temps_C):\n",
        "    (freeze_C, boil_C) = (0, 100)\n",
        "    (freeze_F, boil_F) = (32, 212)\n",
        "    change_in_C = ____ - freeze_C\n",
        "    change_in_F = ____ - freeze_F\n",
        "    slope = ____ / ____\n",
        "    intercept = ____ - freeze_C\n",
        "    temps_F = ____ + (____ * temps_C)\n",
        "    return temps_F\n",
        "\n",
        "# Use the convert function to compute values of F and plot them\n",
        "temps_C = np.linspace(0, 100, 101)\n",
        "temps_F = convert_scale(temps_C)\n",
        "fig = plot_temperatures(temps_C, temps_F)"
      ],
      "execution_count": null,
      "outputs": []
    },
    {
      "cell_type": "markdown",
      "metadata": {
        "id": "gJPcT-DFRF_q"
      },
      "source": [
        "## Test 05\n",
        "**Pendiente y tasas de cambio**\n",
        "\n",
        "En este ejercicio, modelará el movimiento de un automóvil que conduce (aproximadamente) a velocidad constante calculando la velocidad promedio durante todo el viaje. La relación lineal modelada es entre el tiempo transcurrido y la distancia recorrida.\n",
        "\n",
        "En este caso, el parámetro del modelo **a1**, o **pendiente**, se aproxima o \"estima\", como la velocidad media, o dicho de otra manera, la \"tasa de cambio\" de la distancia (\"subida\") dividida por el tiempo( \"correr\").\n",
        "\n",
        "**Instrucciones**\n",
        "1. Calcule las diferencias punto a punto tanto de los tiempos como de las distancias usando numpy.diff().\n",
        "2. Calcule un arreglo de velocidades como la relación **diff_distance** dividida por **diff_times**.\n",
        "3. Calcule el promedio y el rango de valores de velocidad, utilizando métodos numéricos mean, max, min.\n",
        "4. Trace la matriz de velocidades para visualizar el promedio y la dispersión de los valores."
      ]
    },
    {
      "cell_type": "code",
      "metadata": {
        "id": "X4VSqGA7P5QZ"
      },
      "source": [
        "import numpy as np\n",
        "import matplotlib.pyplot as plt\n",
        "times = np.linspace(0,2,25)\n",
        "distances = np.array([   0.13536211,    4.11568697,    8.28931902,   12.41058595,\n",
        "         16.73878397,   20.64153844,   25.14540098,   29.10323276,\n",
        "         33.35991992,   37.47921914,   41.78850899,   45.66165494,\n",
        "         49.9731319 ,   54.13466214,   58.42781412,   62.40834239,\n",
        "         66.65229765,   70.76017847,   75.00351781,   79.2152346 ,\n",
        "         83.24161507,   87.59539364,   91.74179923,   95.87520786,\n",
        "        100.07507133])"
      ],
      "execution_count": null,
      "outputs": []
    },
    {
      "cell_type": "code",
      "metadata": {
        "id": "9wM9LUnndLn_"
      },
      "source": [
        "# Compute an array of velocities as the slope between each point\n",
        "diff_distances = np.diff(____)\n",
        "diff_times = np.diff(____)\n",
        "velocities = ____ / diff_times\n",
        "\n",
        "# Chracterize the center and spread of the velocities\n",
        "v_avg = np.____(velocities)\n",
        "v_max = np.____(velocities)\n",
        "v_min = np.____(velocities)\n",
        "v_range = ____ - ____\n",
        "\n",
        "# Plot the distribution of velocities\n",
        "plt.axhline(v_avg,c='r',linestyle='-',label='Velocity mean')\n",
        "plt.scatter(times[1:],velocities, label='Velocity')\n",
        "plt.legend()\n",
        "plt.show()"
      ],
      "execution_count": null,
      "outputs": []
    },
    {
      "cell_type": "markdown",
      "metadata": {
        "id": "ODb8ru04gbuZ"
      },
      "source": [
        "## Test 06\n",
        "\n",
        "**Intercepción y puntos de partida**\n",
        "\n",
        "En este ejercicio, verá los parámetros de intersección y pendiente en el contexto de las medidas de modelado tomadas del volumen de una solución contenida en una jarra de vidrio grande. La solución está compuesta de agua, granos, azúcares y levadura. También se registró la masa total tanto de la solución como del recipiente de vidrio, pero no se anotó la masa del recipiente vacío.\n",
        "\n",
        "Su trabajo consiste en utilizar pandas DataFrame df precargado, con las columnas de datos **volumes** y **masses**, para construir un modelo lineal que relacione **masses** (datos_y) con **volumes** (datos_x). La pendiente será una estimación de la densidad (cambio de masa / cambio de volumen) de la solución, y la intersección será una estimación del peso del contenedor vacío (masa cuando volumen = 0).\n",
        "\n",
        "**Instrucciones**\n",
        "\n",
        "1. Importe **ols()** de *statsmodels* y usalo para construir un modelo que encaje con data-df con la formula = masses~ volumes\n",
        "2. Extraiga la intercepción **a0** y la pendiente **a1** con *.params['Intercept']* y *.params['volumes']* respectivamente\n",
        "3. Imprima **a0** y **a1** con nombres físicamente significativos\n",
        "4. Imprima **model_fit()** y observe los valores que coincidan con los encontrados arriba, busque etiquetas de fila **Intercept**, **volumes** y una etiqueta de columna **coef**."
      ]
    },
    {
      "cell_type": "code",
      "metadata": {
        "id": "F14flVx8gmIk"
      },
      "source": [
        "import pandas as pd\n",
        "df = pd.read_csv('volumes_masses.csv')\n",
        "\n",
        "# Import ols from statsmodels, and fit a model to the data\n",
        "from statsmodels.formula.api import ols\n",
        "model_fit = ols(formula=\"____ ~ ____\", data=____)\n",
        "model_fit = model_fit.fit()\n",
        "\n",
        "# Extract the model parameter values, and assign them to a0, a1\n",
        "a0 = model_fit.params['____']\n",
        "a1 = model_fit.params['____']\n",
        "\n",
        "# Print model parameter values with meaningful names, and compare to summary()\n",
        "print( \"container_mass   = {:0.4f}\".format(____) )\n",
        "print( \"solution_density = {:0.4f}\".format(____) )\n",
        "print( model_fit.summary() )"
      ],
      "execution_count": null,
      "outputs": []
    },
    {
      "cell_type": "markdown",
      "metadata": {
        "id": "w9BLdWw-4J_7"
      },
      "source": [
        "## Test 07\n",
        "\n",
        "En un ejercicio anterior, vimos que la altitud a lo largo de una ruta de senderismo se ajustaba aproximadamente a un modelo lineal, e introdujimos el concepto de diferencias entre el modelo y los datos como una medida de la bondad del modelo.\n",
        "\n",
        "En este ejercicio, trabajará con los mismos datos medidos y cuantificará qué tan bien se ajusta un modelo al calcular la suma del cuadrado de las \"diferencias\", también llamadas \"residuales\".\n",
        "\n",
        "*Instrucciones*\n",
        "1. Cargue x_data, y_data con la función load_data () predefinida.\n",
        "Llame al modelo predefinido (), pasando x_data y valores específicos a0, a1.\n",
        "Calcule los residuos como y_data - y_model y luego encuentre rss usando np.square () y np.sum ().\n",
        "Imprime el valor resultante de rss."
      ]
    },
    {
      "cell_type": "code",
      "metadata": {
        "id": "Od6tHuKx4Xox"
      },
      "source": [
        "xd = np.linspace(0,10,21)\n",
        "yd = np.array([ 161.78587909,  132.72560763,  210.81767421,  179.6837026 ,\n",
        "        181.98528167,  234.67907351,  246.48971034,  221.58691239,\n",
        "        250.3924093 ,  206.43287615,  303.75089312,  312.29865056,\n",
        "        323.8331032 ,  261.9686295 ,  316.64806585,  337.55295912,\n",
        "        360.13633529,  369.72729852,  408.0289548 ,  348.82736117,\n",
        "        394.93384188])\n",
        "def load_data():\n",
        "  return xd, yd\n",
        "  \n",
        "# Complete the model\n",
        "def model(x, a0, a1):\n",
        "  return ___ + (___*___)\n",
        "\n",
        "# Load the data\n",
        "x_data, y_data = ___\n",
        "\n",
        "# Model the data with specified values for parameters a0, a1\n",
        "y_model = model(____, a0=150, a1=25)\n",
        "\n",
        "# Compute the RSS value for this parameterization of the model\n",
        "rss = np.sum(np.square(____ - ____))\n",
        "print(\"RSS = {}\".format(____))"
      ],
      "execution_count": null,
      "outputs": []
    },
    {
      "cell_type": "markdown",
      "metadata": {
        "id": "pn5a4qPQ6QY6"
      },
      "source": [
        "## Test 08\n",
        "\n",
        "En este ejercicio, completará una función para comparar visualmente el modelo y los datos, y calcular e imprimir el RSS. Lo llamará más de una vez para ver cómo cambia RSS cuando cambia los valores de a0 y a1. Veremos que los valores de los parámetros que encontramos anteriormente son los necesarios para minimizar el RSS.\n",
        "\n",
        "*Instrucciones*\n",
        "1. Complete la llamada a model() pasando los datos xd y los parámetros del modelo a0 y a1.\n",
        "2. Calcule rss como la suma del cuadrado de los residuos.\n",
        "3. Use compute_rss_and_plot_fit() para varios valores de a0 y a1 para ver cómo cambian RSS.\n",
        "4. Convénzase de que los valores originales a0 = 150 y a1 = 25 minimizan el RSS."
      ]
    },
    {
      "cell_type": "code",
      "metadata": {
        "id": "Hw1lFRf47wEw"
      },
      "source": [
        "import matplotlib.pyplot as plt\n",
        "xd = np.linspace(0,10,21)\n",
        "yd = np.array([ 161.78587909,  132.72560763,  210.81767421,  179.6837026 ,\n",
        "        181.98528167,  234.67907351,  246.48971034,  221.58691239,\n",
        "        250.3924093 ,  206.43287615,  303.75089312,  312.29865056,\n",
        "        323.8331032 ,  261.9686295 ,  316.64806585,  337.55295912,\n",
        "        360.13633529,  369.72729852,  408.0289548 ,  348.82736117,\n",
        "        394.93384188])\n",
        "\n",
        "def plot_data_with_model(x,y,ym, summ):\n",
        "  fig,_ = plt.subplots()\n",
        "  fig.axes[0].scatter(x,y,c='black')\n",
        "  fig.axes[0].plot(x, ym, color='red')  # over-plot modeled data\n",
        "  plt.title(summ)\n",
        "  plt.show()\n",
        "  return fig\n",
        "\n",
        "# Complete function to load data, build model, compute RSS, and plot\n",
        "def compute_rss_and_plot_fit(a0, a1):\n",
        "    ym = model(xd, ____, ____)\n",
        "    residuals = ym - yd\n",
        "    rss = np.sum(np.square(____))\n",
        "    summary = \"Parameters a0={}, a1={} yield RSS={:0.2f}\".format(____, ____, rss)\n",
        "    fig = plot_data_with_model(xd, yd, ym, summary)\n",
        "    return rss, summary\n",
        "\n",
        "# Chose model parameter values and pass them into RSS function\n",
        "rss, summary = compute_rss_and_plot_fit(a0=____, a1=____)\n",
        "print(summary)\n"
      ],
      "execution_count": null,
      "outputs": []
    },
    {
      "cell_type": "markdown",
      "metadata": {
        "id": "m_J7WafG-XJu"
      },
      "source": [
        "## Test 09\n",
        "\n",
        "En este ejercicio, calculará y visualizará cómo varía RSS para diferentes valores de los parámetros del modelo. Comience manteniendo constante la intersección, pero varíe la pendiente: y para cada valor de pendiente, calculará los valores del modelo y el RSS resultante. Una vez que tenga una matriz de valores RSS, determinará el valor RSS mínimo, en código, y a partir de ese mínimo, determinará la pendiente que resultó en ese RSS mínimo.\n",
        "\n",
        "Utilice matrices de datos precargadas x_data, y_data y el contenedor vacío rss_list para comenzar.\n",
        "\n",
        "**Instrucciones**\n",
        "1. Para cada a1 en **a1_array** use el modelo para predecir el valor del modelo y luego calcular el valor de **RSS** con *y_model* y *y_data*, almacene este valor en la lista **rss_list**.\n",
        "2. Convierta *rss_list* a un **rss_array**, y halle el menor valor de rss.\n",
        "3. Use **np.where()** para hallar el valor a1 correspondiente y asignelo a **best_a1**.\n",
        "4. Muestre los resultados en una gráfica."
      ]
    },
    {
      "cell_type": "code",
      "metadata": {
        "id": "7jpjdJ3Q-uIV"
      },
      "source": [
        "import numpy as np\n",
        "import matplotlib.pyplot as plt\n",
        "\n",
        "def compute_rss(yd,ym):\n",
        "  return ___\n",
        "\n",
        "def model(x,a0,a1):\n",
        "  return ___\n",
        "\n",
        "rss_list = list()\n",
        "\n",
        "# Loop over all trial values in a1_array, computing rss for each\n",
        "a1_array = np.linspace(15, 35, 101)\n",
        "for a1_trial in a1_array:\n",
        "    y_model = model(x_data, a0=150, a1=____)\n",
        "    rss_value = compute_rss(y_data, ____)\n",
        "    rss_list.append(____)\n",
        "\n",
        "# Find the minimum RSS and the a1 value from whence it came\n",
        "rss_array = np.array(____)\n",
        "best_rss = np.min(____) \n",
        "best_a1 = a1_array[np.where(rss_array==____)]\n",
        "print('The minimum RSS = {}, came from a1 = {}'.format(best_rss, best_a1))\n",
        "\n",
        "# Plot your rss and a1 values to confirm answer\n",
        "plt.scatter(a1_array,rss_array)\n",
        "plt.scatter(best_a1,best_rss,c='r',s=60)\n",
        "plt.xlabel('Slope a1')\n",
        "plt.ylabel('RSS')\n",
        "plt.show()"
      ],
      "execution_count": null,
      "outputs": []
    },
    {
      "cell_type": "markdown",
      "metadata": {
        "id": "6UJyw4pBdvPA"
      },
      "source": [
        "## Test 10\n",
        "\n",
        "**Mínimos Cuadrados con Numpy**\n",
        "\n",
        "*Instrucciones*\n",
        "1. Calcule las medias y las desviaciones de las dos variables x, y a partir de los datos precargados.\n",
        "2. Utilice np.sum() para completar las fórmulas de mínimos cuadrados y utilícelas para calcular los valores óptimos para **a0** y **a1**.\n",
        "3. Use model() para construir los valores del modelo **y_model** a partir de esos valores de pendiente óptima *a1* y la intersección *a0*.\n",
        "4. Utilice compute_rss_and_plot_fit() definido anteriormente para confirmar visualmente que este modelo óptimo se ajusta a los datos."
      ]
    },
    {
      "cell_type": "code",
      "metadata": {
        "id": "FV-i1tEiowpC"
      },
      "source": [
        "x = np.linspace(0,10,21)\n",
        "y = np.array([ 161.78587909,  132.72560763,  210.81767421,  179.6837026 ,\n",
        "        181.98528167,  234.67907351,  246.48971034,  221.58691239,\n",
        "        250.3924093 ,  206.43287615,  303.75089312,  312.29865056,\n",
        "        323.8331032 ,  261.9686295 ,  316.64806585,  337.55295912,\n",
        "        360.13633529,  369.72729852,  408.0289548 ,  348.82736117,\n",
        "        394.93384188])\n",
        "\n",
        "# prepare the means and deviations of the two variables\n",
        "x_mean = np.____(x)\n",
        "y_mean = np.____(y)\n",
        "x_dev = x - ____\n",
        "y_dev = y - ____\n",
        "\n",
        "# Complete least-squares formulae to find the optimal a0, a1\n",
        "a1 = np.sum(____ * ____) / np.sum( np.square(____) )\n",
        "a0 = ____ - (a1 * ____)\n",
        "\n",
        "# Use the those optimal model parameters a0, a1 to build a model\n",
        "y_model = model(x, ____, ____)\n",
        "\n",
        "# plot to verify that the resulting y_model best fits the data y\n",
        "fig, rss = compute_rss_and_plot_fit(a0, a1)"
      ],
      "execution_count": null,
      "outputs": []
    },
    {
      "cell_type": "markdown",
      "metadata": {
        "id": "PK-aI0zFu9ay"
      },
      "source": [
        "##Test 11\n",
        "**Optimizando con Scipy**\n",
        "\n",
        "*Instrucciones*\n",
        "1. Defina una función model_func(x, a0, a1) que dada una matriz x devuelve a0 + a1 * x.\n",
        "2. Utilice la función scipy optimize.curve_fit() para calcular valores óptimos para a0 y a1.\n",
        "3. Desempaquete el param_opt para almacenar los parámetros del modelo como a0 = param_opt [0] y a1 = param_opt [1].\n",
        "4. Utilice la función definida anteriormente compute_rss_and_plot_fit para probar y verificar su respuesta.\n"
      ]
    },
    {
      "cell_type": "code",
      "metadata": {
        "id": "1zV-OaFLv6vI"
      },
      "source": [
        "from scipy import optimize\n",
        "def load_data():\n",
        "  return x_data, y_data\n",
        "\n",
        "# Define a model function needed as input to scipy\n",
        "def model_func(x, a0, a1):\n",
        "    return ____ + (____*x)\n",
        "\n",
        "# Load the measured data you want to model\n",
        "x_data, y_data  = load_data()\n",
        "\n",
        "# call curve_fit, passing in the model function and data; then unpack the results\n",
        "param_opt, param_cov = optimize.curve_fit(____, x_data, y_data)\n",
        "a0 = param_opt[0]  # a0 is the intercept in y = a0 + a1*x\n",
        "a1 = param_opt[1]  # a1 is the slope     in y = a0 + a1*x\n",
        "\n",
        "# test that these parameters result in a model that fits the data\n",
        "fig, rss = compute_rss_and_plot_fit(____, ____)"
      ],
      "execution_count": null,
      "outputs": []
    },
    {
      "cell_type": "markdown",
      "metadata": {
        "id": "9GmWMG9KyQrt"
      },
      "source": [
        "##Test 12\n",
        "\n",
        "**Mínimos Cuadrados con Statsmodels**\n",
        "\n",
        "*Instrucciones*\n",
        "1. Construya un modelo ols() con la fórmula = \"columna_y ~ columna_x\" y datos = df, y luego entrenelo con el método .fit()\n",
        "2. Utilice model_fit.predict() para obtener valores de y_model.\n",
        "3. Extraiga los valores de los parámetros del modelo a0 y a1 de model_fit.params.\n",
        "4. Use compute_rss_and_plot_fit() para confirmar que estos resultados son consistentes con las fórmulas analíticas implementadas con numpy."
      ]
    },
    {
      "cell_type": "code",
      "metadata": {
        "id": "cOwwGfOAzK9a"
      },
      "source": [
        "import pandas as pd\n",
        "from statsmodels.formula.api import ols\n",
        "df = pd.DataFrame(dict(x_column=x_data,y_column=y_data))\n",
        "\n",
        "# Pass data and `formula` into ols(), use and `.fit()` the model to the data\n",
        "model_fit = ols(____=\"y_column ~ x_column\", ____=df).____()\n",
        "\n",
        "# Use .predict(df) to get y_model values\n",
        "y_model = model_fit.____(df)\n",
        "\n",
        "# Extract the a0, a1 values from model_fit.params\n",
        "a0 = model_fit.____['Intercept']\n",
        "a1 = model_fit.____['x_column']\n",
        "\n",
        "# Visually verify that these parameters a0, a1 give the minimum RSS\n",
        "fig, rss = compute_rss_and_plot_fit(a0, a1)"
      ],
      "execution_count": null,
      "outputs": []
    }
  ]
}